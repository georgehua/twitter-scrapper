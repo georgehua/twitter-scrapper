{
 "cells": [
  {
   "cell_type": "markdown",
   "metadata": {},
   "source": [
    "# Scweet\n",
    "\n",
    "### **Table of Content:**\n",
    "\n",
    " 1. [Importing and Discovering the Dataset](#head-1)  \n",
    " 2. [Cleaning and Processing the Data](#head-2)  \n",
    "  2.1. [Tokenization](#head-2-1)  \n",
    "  2.2. [Lemmatization](#head-2-2)  \n",
    "  2.3. [Cleaning the Data](#head-2-3)  \n",
    " 3. [Visualizing the Data](#head-3)\n",
    " 4. [Tweets and Time](#head-4)"
   ]
  },
  {
   "cell_type": "markdown",
   "metadata": {},
   "source": [
    "Scweet is a browser scripting tool that utlizes selenium (headless browser) to scrape data. In it's official github repository, the creator wrote:\n",
    "\n",
    ">In the last days, Twitter banned almost every twitter scrapers. This repository represent an alternative legal tool (depending on how many seconds we wait between each scrolling) to scrap tweets between two given dates (start_date and max_date), for a given language and list of words or account name, and saves a csv file containing scraped data :\n",
    "\n",
    ">[UserScreenName, UserName, Timestamp, Text, Embedded_text, Emojis, Comments, Likes, Retweets, Image link, Tweet URL]\n",
    "\n",
    "I found this could be a good source to bypass the limitation of Official Twitter API, and query a large amount of tweets within a short period of time.\n",
    "\n",
    "Dependency of the program based it's requirements.txt:\n",
    "\n",
    "- selenium\n",
    "- pandas\n",
    "- python-dotenv\n",
    "- chromedriver-autoinstaller\n",
    "- urllib3"
   ]
  },
  {
   "cell_type": "code",
   "execution_count": 1,
   "metadata": {},
   "outputs": [
    {
     "name": "stdout",
     "output_type": "stream",
     "text": [
      "Collecting selenium\n",
      "  Using cached selenium-3.141.0-py2.py3-none-any.whl (904 kB)\n",
      "Requirement already satisfied: pandas in c:\\users\\george\\anaconda3\\lib\\site-packages (from -r requirements.txt (line 2)) (1.2.4)\n",
      "Requirement already satisfied: python-dotenv in c:\\users\\george\\anaconda3\\lib\\site-packages (from -r requirements.txt (line 3)) (0.10.3)\n",
      "Collecting chromedriver-autoinstaller\n",
      "  Using cached chromedriver_autoinstaller-0.2.2-py3-none-any.whl (5.9 kB)\n",
      "Requirement already satisfied: urllib3 in c:\\users\\george\\anaconda3\\lib\\site-packages (from -r requirements.txt (line 5)) (1.24.2)\n",
      "Collecting Scweet\n",
      "  Using cached Scweet-1.0-py3-none-any.whl\n",
      "Requirement already satisfied: pytz>=2017.3 in c:\\users\\george\\anaconda3\\lib\\site-packages (from pandas->-r requirements.txt (line 2)) (2019.1)\n",
      "Requirement already satisfied: numpy>=1.16.5 in c:\\users\\george\\anaconda3\\lib\\site-packages (from pandas->-r requirements.txt (line 2)) (1.19.5)\n",
      "Requirement already satisfied: python-dateutil>=2.7.3 in c:\\users\\george\\anaconda3\\lib\\site-packages (from pandas->-r requirements.txt (line 2)) (2.8.0)\n",
      "Requirement already satisfied: six>=1.5 in c:\\users\\george\\anaconda3\\lib\\site-packages (from python-dateutil>=2.7.3->pandas->-r requirements.txt (line 2)) (1.15.0)\n",
      "Installing collected packages: selenium, chromedriver-autoinstaller, Scweet\n",
      "Successfully installed Scweet-1.0 chromedriver-autoinstaller-0.2.2 selenium-3.141.0\n"
     ]
    },
    {
     "name": "stderr",
     "output_type": "stream",
     "text": [
      "WARNING: You are using pip version 21.0.1; however, version 21.1.1 is available.\n",
      "You should consider upgrading via the 'c:\\users\\george\\anaconda3\\python.exe -m pip install --upgrade pip' command.\n"
     ]
    }
   ],
   "source": [
    "# first install all the dependencies\n",
    "!pip install -r requirements.txt"
   ]
  },
  {
   "cell_type": "code",
   "execution_count": null,
   "metadata": {},
   "outputs": [],
   "source": []
  }
 ],
 "metadata": {
  "kernelspec": {
   "display_name": "Python 3",
   "language": "python",
   "name": "python3"
  },
  "language_info": {
   "codemirror_mode": {
    "name": "ipython",
    "version": 3
   },
   "file_extension": ".py",
   "mimetype": "text/x-python",
   "name": "python",
   "nbconvert_exporter": "python",
   "pygments_lexer": "ipython3",
   "version": "3.7.3"
  }
 },
 "nbformat": 4,
 "nbformat_minor": 2
}
